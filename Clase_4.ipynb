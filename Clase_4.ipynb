{
 "cells": [
  {
   "cell_type": "markdown",
   "id": "0e482e1b",
   "metadata": {},
   "source": [
    "# <h1 style=\"text-align: center; color: #b30000; font-size: 2.5em; font-family: 'Segoe UI', sans-serif; margin-top: 30px; margin-bottom: 30px;\">\n",
    "# Cuarta Clase Teórica de Informática 2<br>\n",
    "# <span style=\"font-size: 1.2em; color: #444;\">¡Introducción a C++!</span>\n",
    "# </h1>"
   ]
  },
  {
   "cell_type": "markdown",
   "id": "d14ba265",
   "metadata": {},
   "source": [
    "\n"
   ]
  }
 ],
 "metadata": {
  "language_info": {
   "name": "python"
  }
 },
 "nbformat": 4,
 "nbformat_minor": 5
}
