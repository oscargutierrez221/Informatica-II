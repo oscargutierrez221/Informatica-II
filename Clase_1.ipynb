{
 "cells": [
  {
   "cell_type": "markdown",
   "id": "101b1cd7",
   "metadata": {
    "slideshow": {
     "slide_type": "slide"
    },
    "vscode": {
     "languageId": "ruby"
    }
   },
   "source": [
    "Esta es la primera clase teorica de la asignatura de Informatica 2, donde se vera todo lo relacionado con C++"
   ]
  },
  {
   "cell_type": "code",
   "execution_count": null,
   "id": "1cf77e34",
   "metadata": {
    "vscode": {
     "languageId": "ruby"
    }
   },
   "outputs": [],
   "source": [
    "#* C++ introducción\n",
    "\n"
   ]
  }
 ],
 "metadata": {
  "kernelspec": {
   "display_name": "base",
   "language": "python",
   "name": "python3"
  },
  "language_info": {
   "codemirror_mode": {
    "name": "ipython",
    "version": 3
   },
   "file_extension": ".py",
   "mimetype": "text/x-python",
   "name": "python",
   "nbconvert_exporter": "python",
   "pygments_lexer": "ipython3",
   "version": "3.12.3"
  }
 },
 "nbformat": 4,
 "nbformat_minor": 5
}
