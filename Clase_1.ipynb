{
 "cells": [
  {
   "cell_type": "markdown",
   "id": "101b1cd7",
   "metadata": {
    "slideshow": {
     "slide_type": "slide"
    },
    "vscode": {
     "languageId": "ruby"
    }
   },
   "source": [
    "# <h1 style=\"text-align: center; color: #b30000; font-size: 2.5em; font-family: 'Segoe UI', sans-serif; margin-top: 30px; margin-bottom: 30px;\">\n",
    "# Primera Clase Teórica de Informática 2<br>\n",
    "# <span style=\"font-size: 1.2em; color: #444;\">¡Todo sobre Git!</span>\n",
    "# </h1>"
   ]
  },
  {
   "cell_type": "markdown",
   "id": "1cf77e34",
   "metadata": {
    "vscode": {
     "languageId": "ruby"
    }
   },
   "source": [
    "# **Git: ¿Qué es git y cómo se usa?**"
   ]
  },
  {
   "cell_type": "markdown",
   "id": "07e3e2bc",
   "metadata": {},
   "source": [
    "### Git: ¿Qué es y cómo se usa?\n",
    "\n",
    "#### ¿Qué es Git?\n",
    "Git es un sistema de control de versiones distribuido (2005, Linus Torvalds). Permite registrar y gestionar cambios en el código, colaborar y recuperar versiones anteriores.\n",
    "\n",
    "---\n",
    "\n",
    "#### ¿Para qué se usa Git?\n",
    "- Guardar el historial de cambios de un proyecto.\n",
    "- Colaborar con otros programadores de manera eficiente.\n",
    "- Probar nuevas ideas sin afectar la versión principal del código.\n",
    "- Volver a versiones anteriores si es necesario.\n",
    "\n",
    "---\n",
    "\n",
    "#### ¿Qué es GitHub?\n",
    "GitHub es una plataforma que usa Git para alojar repositorios. Permite compartir proyectos, colaborar y gestionar el desarrollo de software de forma visual.\n",
    "\n",
    "---\n",
    "\n",
    "#### ¿Qué es Git Bash?\n",
    "Git Bash es una terminal para Windows similar a Linux, útil para ejecutar comandos de Git y scripts de Bash.\n",
    "\n",
    "---\n",
    "\n",
    "#### Comandos básicos de Git\n",
    "| Comando                   | Descripción                                                    |\n",
    "|---------------------------|----------------------------------------------------------------|\n",
    "| `git init`                | Inicializa un nuevo repositorio Git.                           |\n",
    "| `git clone <url>`         | Clona un repositorio existente.                                |\n",
    "| `git status`              | Muestra el estado de los archivos.                             |\n",
    "| `git add <archivo>`       | Añade archivos al área de preparación (staging).               |\n",
    "| `git commit -m \"mensaje\"` | Guarda los cambios con un mensaje descriptivo.                 |\n",
    "| `git push`                | Envía los cambios al repositorio remoto (p. ej., GitHub).      |\n",
    "| `git pull`                | Descarga y fusiona los cambios del repositorio remoto.         |\n",
    "\n",
    "> En resumen: Git es esencial para el desarrollo moderno; facilita el trabajo en equipo, mantiene el orden del código y agiliza la colaboración.\n"
   ]
  }
 ],
 "metadata": {
  "kernelspec": {
   "display_name": "cpp_env",
   "language": "python",
   "name": "python3"
  },
  "language_info": {
   "codemirror_mode": {
    "name": "ipython",
    "version": 3
   },
   "file_extension": ".py",
   "mimetype": "text/x-python",
   "name": "python",
   "nbconvert_exporter": "python",
   "pygments_lexer": "ipython3",
   "version": "3.13.7"
  }
 },
 "nbformat": 4,
 "nbformat_minor": 5
}
